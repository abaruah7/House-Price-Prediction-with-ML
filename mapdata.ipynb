{
  "nbformat": 4,
  "nbformat_minor": 0,
  "metadata": {
    "colab": {
      "name": "mapdata.ipynb",
      "provenance": [],
      "collapsed_sections": []
    },
    "kernelspec": {
      "name": "python3",
      "display_name": "Python 3"
    }
  },
  "cells": [
    {
      "cell_type": "code",
      "metadata": {
        "id": "TDUM9FL52swX",
        "colab_type": "code",
        "outputId": "ab72de1e-6fa5-4b62-c2f6-7eaed6d33e1f",
        "colab": {
          "base_uri": "https://localhost:8080/",
          "height": 50
        }
      },
      "source": [
        "pip install geopy"
      ],
      "execution_count": 0,
      "outputs": [
        {
          "output_type": "stream",
          "text": [
            "Requirement already satisfied: geopy in /usr/local/lib/python3.6/dist-packages (1.17.0)\n",
            "Requirement already satisfied: geographiclib<2,>=1.49 in /usr/local/lib/python3.6/dist-packages (from geopy) (1.50)\n"
          ],
          "name": "stdout"
        }
      ]
    },
    {
      "cell_type": "code",
      "metadata": {
        "id": "xeAwUDtC3h_b",
        "colab_type": "code",
        "colab": {}
      },
      "source": [
        "import geopy\n",
        "from geopy.distance import vincenty\n",
        "import numpy as np\n",
        "import pandas as pd"
      ],
      "execution_count": 0,
      "outputs": []
    },
    {
      "cell_type": "code",
      "metadata": {
        "id": "2mLqv1DXlMkn",
        "colab_type": "code",
        "colab": {}
      },
      "source": [
        "df_house = pd.read_excel(\"/content/Modified Data - Housing Edited.xlsx\",header=0)\n",
        "df_school = pd.read_csv(\"/content/tdsb-school-locations-wgs84.csv\",header=0)"
      ],
      "execution_count": 0,
      "outputs": []
    },
    {
      "cell_type": "code",
      "metadata": {
        "id": "p5pWGopio1u0",
        "colab_type": "code",
        "outputId": "1b27b7a1-59c5-4af3-c76b-3849633c6932",
        "colab": {
          "base_uri": "https://localhost:8080/",
          "height": 447
        }
      },
      "source": [
        "df_school"
      ],
      "execution_count": 0,
      "outputs": [
        {
          "output_type": "execute_result",
          "data": {
            "text/html": [
              "<div>\n",
              "<style scoped>\n",
              "    .dataframe tbody tr th:only-of-type {\n",
              "        vertical-align: middle;\n",
              "    }\n",
              "\n",
              "    .dataframe tbody tr th {\n",
              "        vertical-align: top;\n",
              "    }\n",
              "\n",
              "    .dataframe thead th {\n",
              "        text-align: right;\n",
              "    }\n",
              "</style>\n",
              "<table border=\"1\" class=\"dataframe\">\n",
              "  <thead>\n",
              "    <tr style=\"text-align: right;\">\n",
              "      <th></th>\n",
              "      <th>Address</th>\n",
              "      <th>Add Pt Id</th>\n",
              "      <th>City</th>\n",
              "      <th>Geometry</th>\n",
              "      <th>Latitude</th>\n",
              "      <th>Longitude</th>\n",
              "      <th>Metpanelid</th>\n",
              "      <th>MUN</th>\n",
              "      <th>Number of Records</th>\n",
              "      <th>Postalcede</th>\n",
              "      <th>Schname</th>\n",
              "      <th>X</th>\n",
              "      <th>Y</th>\n",
              "    </tr>\n",
              "  </thead>\n",
              "  <tbody>\n",
              "    <tr>\n",
              "      <th>0</th>\n",
              "      <td>51 Larchmount Avenue</td>\n",
              "      <td>8392356</td>\n",
              "      <td>Toronto</td>\n",
              "      <td>POINT</td>\n",
              "      <td>43.661044</td>\n",
              "      <td>-79.333339</td>\n",
              "      <td>E</td>\n",
              "      <td>former Toronto</td>\n",
              "      <td>1</td>\n",
              "      <td>M4M 2Y6</td>\n",
              "      <td>Bruce Public School</td>\n",
              "      <td>318226.213</td>\n",
              "      <td>4835468.197</td>\n",
              "    </tr>\n",
              "    <tr>\n",
              "      <th>1</th>\n",
              "      <td>520 Cosburn Avenue</td>\n",
              "      <td>7794470</td>\n",
              "      <td>East York</td>\n",
              "      <td>POINT</td>\n",
              "      <td>43.693760</td>\n",
              "      <td>-79.330932</td>\n",
              "      <td>E</td>\n",
              "      <td>East York</td>\n",
              "      <td>1</td>\n",
              "      <td>M4J 2P1</td>\n",
              "      <td>Cosburn Middle School</td>\n",
              "      <td>318413.022</td>\n",
              "      <td>4839103.160</td>\n",
              "    </tr>\n",
              "    <tr>\n",
              "      <th>2</th>\n",
              "      <td>53 Donlands Avenue</td>\n",
              "      <td>7807349</td>\n",
              "      <td>Toronto</td>\n",
              "      <td>POINT</td>\n",
              "      <td>43.682050</td>\n",
              "      <td>-79.337486</td>\n",
              "      <td>E</td>\n",
              "      <td>former Toronto</td>\n",
              "      <td>1</td>\n",
              "      <td>M4J 3N7</td>\n",
              "      <td>Wilkinson Junior Public School</td>\n",
              "      <td>317887.183</td>\n",
              "      <td>4837801.159</td>\n",
              "    </tr>\n",
              "    <tr>\n",
              "      <th>3</th>\n",
              "      <td>5400 Lawrence Avenue East</td>\n",
              "      <td>13497749</td>\n",
              "      <td>West Hill</td>\n",
              "      <td>POINT</td>\n",
              "      <td>43.779311</td>\n",
              "      <td>-79.142241</td>\n",
              "      <td>S</td>\n",
              "      <td>Scarborough</td>\n",
              "      <td>1</td>\n",
              "      <td>M1C 2C6</td>\n",
              "      <td>Sir Oliver Mowat Collegiate Institute</td>\n",
              "      <td>333582.205</td>\n",
              "      <td>4848655.383</td>\n",
              "    </tr>\n",
              "    <tr>\n",
              "      <th>4</th>\n",
              "      <td>544 Horner Avenue</td>\n",
              "      <td>6735862</td>\n",
              "      <td>Etobicoke</td>\n",
              "      <td>POINT</td>\n",
              "      <td>43.601610</td>\n",
              "      <td>-79.548165</td>\n",
              "      <td>E</td>\n",
              "      <td>Etobicoke</td>\n",
              "      <td>1</td>\n",
              "      <td>M8W 2C2</td>\n",
              "      <td>Sir Adam Beck Junior School</td>\n",
              "      <td>300895.876</td>\n",
              "      <td>4828853.138</td>\n",
              "    </tr>\n",
              "  </tbody>\n",
              "</table>\n",
              "</div>"
            ],
            "text/plain": [
              "                     Address  Add Pt Id  ...           X            Y\n",
              "0       51 Larchmount Avenue    8392356  ...  318226.213  4835468.197\n",
              "1         520 Cosburn Avenue    7794470  ...  318413.022  4839103.160\n",
              "2         53 Donlands Avenue    7807349  ...  317887.183  4837801.159\n",
              "3  5400 Lawrence Avenue East   13497749  ...  333582.205  4848655.383\n",
              "4          544 Horner Avenue    6735862  ...  300895.876  4828853.138\n",
              "\n",
              "[5 rows x 13 columns]"
            ]
          },
          "metadata": {
            "tags": []
          },
          "execution_count": 22
        }
      ]
    },
    {
      "cell_type": "code",
      "metadata": {
        "id": "RPAHWxBln13J",
        "colab_type": "code",
        "colab": {}
      },
      "source": [
        "property = (df_house.iloc[0][9], df_house.iloc[0][10])\n",
        "school = (df_school.iloc[0][4], df_school.iloc[0][5])"
      ],
      "execution_count": 0,
      "outputs": []
    },
    {
      "cell_type": "code",
      "metadata": {
        "id": "Yr8y4WqkpouZ",
        "colab_type": "code",
        "outputId": "2f4350a3-9cd2-44ea-b4cf-da1db9c4a76b",
        "colab": {
          "base_uri": "https://localhost:8080/",
          "height": 34
        }
      },
      "source": [
        "print(vincenty(property, school).km)"
      ],
      "execution_count": 0,
      "outputs": [
        {
          "output_type": "stream",
          "text": [
            "23.347629390437966\n"
          ],
          "name": "stdout"
        }
      ]
    },
    {
      "cell_type": "code",
      "metadata": {
        "id": "g6PANNd0p_3g",
        "colab_type": "code",
        "colab": {}
      },
      "source": [
        "hl = len(df_house)\n",
        "sl = len(df_school)\n",
        "final_ind=[]\n",
        "final_dist=[]\n",
        "for i in range(hl):\n",
        "  house = (df_house.iloc[i][9], df_house.iloc[i][10])\n",
        "  dist = np.zeros(sl)\n",
        "  for j in range(sl):\n",
        "    school = (df_school.iloc[j][4], df_school.iloc[j][5])\n",
        "    dist[j] = vincenty(house, school).km\n",
        "  ind = np.argmin(dist)\n",
        "  final_ind.append(ind)\n",
        "  final_dist.append(dist[ind])\n",
        "  print(\"element done: \"+str(i))"
      ],
      "execution_count": 0,
      "outputs": []
    },
    {
      "cell_type": "code",
      "metadata": {
        "id": "dH4pe6ffvlO5",
        "colab_type": "code",
        "colab": {}
      },
      "source": [
        "f_index_np = np.array(final_ind)\n",
        "f_distance_np = np.array(final_dist)"
      ],
      "execution_count": 0,
      "outputs": []
    },
    {
      "cell_type": "code",
      "metadata": {
        "id": "owv1JNxmP3zY",
        "colab_type": "code",
        "colab": {}
      },
      "source": [
        "df_house['school_index'] = f_index_np\n",
        "df_house['School_min_dist'] = f_distance_np"
      ],
      "execution_count": 0,
      "outputs": []
    },
    {
      "cell_type": "code",
      "metadata": {
        "id": "MxodJU-vSzPj",
        "colab_type": "code",
        "colab": {}
      },
      "source": [
        "df_house.to_excel('output.xlsx')"
      ],
      "execution_count": 0,
      "outputs": []
    }
  ]
}